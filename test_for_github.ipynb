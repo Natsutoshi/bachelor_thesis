{
  "nbformat": 4,
  "nbformat_minor": 0,
  "metadata": {
    "colab": {
      "provenance": []
    },
    "kernelspec": {
      "name": "python3",
      "display_name": "Python 3"
    },
    "language_info": {
      "name": "python"
    }
  },
  "cells": [
    {
      "cell_type": "code",
      "execution_count": null,
      "metadata": {
        "colab": {
          "base_uri": "https://localhost:8080/"
        },
        "id": "cFjyyTOZHiGC",
        "outputId": "b94ce9e0-be26-4691-9d5c-8eb653eacf60"
      },
      "outputs": [
        {
          "output_type": "stream",
          "name": "stdout",
          "text": [
            "welcome to github\n"
          ]
        }
      ],
      "source": [
        "print(\"welcome to github\")"
      ]
    },
    {
      "cell_type": "code",
      "source": [
        "a=2\n",
        "b=1\n",
        "c=0\n",
        "while c <=10:\n",
        "    print(a,b)\n",
        "    a=a+b\n",
        "    b=a-b\n",
        "    c=c+1"
      ],
      "metadata": {
        "colab": {
          "base_uri": "https://localhost:8080/"
        },
        "id": "u2wZVop5RDfE",
        "outputId": "6fb2d8fd-3a00-46d3-e2fa-e87dec695ca6"
      },
      "execution_count": 1,
      "outputs": [
        {
          "output_type": "stream",
          "name": "stdout",
          "text": [
            "2 1\n",
            "3 2\n",
            "5 3\n",
            "8 5\n",
            "13 8\n",
            "21 13\n",
            "34 21\n",
            "55 34\n",
            "89 55\n",
            "144 89\n",
            "233 144\n"
          ]
        }
      ]
    }
  ]
}